{
 "cells": [
  {
   "cell_type": "code",
   "execution_count": 106,
   "metadata": {},
   "outputs": [
    {
     "name": "stdout",
     "output_type": "stream",
     "text": [
      "23.12.2011\n",
      "m.nevaev 9:36:30\n",
      "i.ivanov 8:48:15\n"
     ]
    }
   ],
   "source": [
    "# -*- coding: utf-8 -*-\n",
    "import xml.dom.minidom as minidom\n",
    "import datetime\n",
    "\n",
    "def getDates(xml):\n",
    "    doc = minidom.parse(xml)\n",
    "    node = doc.documentElement\n",
    "    persons = doc.getElementsByTagName(\"person\")\n",
    "    \n",
    "    dates = []\n",
    "    for person in persons:\n",
    "        # Вытаскиваем фамилию из <start full_name=\"...\">\n",
    "        node = str(person.getElementsByTagName(\"start\")[0].toxml(\"utf-8\"))\n",
    "        name = node.split('\"', 2)[1]\n",
    "        \n",
    "        #Вытаскиваем дату/время входа/выхода сотруданика из блоков start и end\n",
    "        startObj = person.getElementsByTagName(\"start\")[0]\n",
    "        endObj = person.getElementsByTagName(\"end\")[0]\n",
    "        datetime_start = datetime.datetime.strptime(startObj.childNodes[0].data, '%d-%m-%Y %H:%M:%S')\n",
    "        datetime_end = datetime.datetime.strptime(endObj.childNodes[0].data, '%d-%m-%Y %H:%M:%S')\n",
    "        date = datetime.date(datetime_start.year, datetime_start.month, datetime_start.day)\n",
    "        delta = datetime_end - datetime_start\n",
    "        #employees = {name: delta}\n",
    "        element = {date: {name: delta}}        \n",
    "        \n",
    "        addInDates(element, dates, date, name, delta)\n",
    "        \n",
    "    return dates\n",
    "    \n",
    "def addInDates(element, dates, date, name, delta):\n",
    "    if len(dates) != 0:\n",
    "        flag = 0\n",
    "        for i in range(len(dates)):\n",
    "            if dates[i].get(date):\n",
    "                if dates[i].get(date).get(name):\n",
    "                    dates[i].get(date).update({name: dates[i].get(date).get(name)+delta})\n",
    "                    flag = 1\n",
    "                    break\n",
    "                else:\n",
    "                    dates[i].get(date).update({name: delta})\n",
    "                    flag = 1\n",
    "                    break\n",
    "        if(not flag):\n",
    "            dates.append({date: {name: delta}})\n",
    "    else:\n",
    "        dates.append({date: {name: delta}} )\n",
    "        \n",
    "# Выводит список сотрудников за число date      \n",
    "# dates - список дат, date - дата, на которую хотят получить информацию\n",
    "# type(date) = str в формате \"dd.mm.yy\"\n",
    "def search(dates, date):\n",
    "    print(date)\n",
    "    date = date.split(\".\", 2)\n",
    "    date = datetime.date(int(date[2]), int(date[1]), int(date[0]))\n",
    "    for index in range(len(dates)):\n",
    "        if dates[index].get(date):\n",
    "            for key in dates[index].get(date).keys():\n",
    "                print(key, dates[index].get(date).get(key))\n",
    "            return\n",
    "    print(\"The base doesn't have this date\")\n",
    "       \n",
    "            \n",
    "document = 'persons.xml'\n",
    "a = getDates(document)\n",
    "search(a,\"23.12.2011\")"
   ]
  },
  {
   "cell_type": "code",
   "execution_count": null,
   "metadata": {},
   "outputs": [],
   "source": []
  }
 ],
 "metadata": {
  "kernelspec": {
   "display_name": "Python 3",
   "language": "python",
   "name": "python3"
  },
  "language_info": {
   "codemirror_mode": {
    "name": "ipython",
    "version": 3
   },
   "file_extension": ".py",
   "mimetype": "text/x-python",
   "name": "python",
   "nbconvert_exporter": "python",
   "pygments_lexer": "ipython3",
   "version": "3.6.5"
  }
 },
 "nbformat": 4,
 "nbformat_minor": 2
}
